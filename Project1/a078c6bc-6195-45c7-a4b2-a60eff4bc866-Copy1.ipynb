{
 "cells": [
  {
   "cell_type": "markdown",
   "id": "79d43232",
   "metadata": {},
   "source": [
    "<b>Привет!</b>\n",
    "\n",
    "Меня зовут Харочкина Екатерина, и я буду проверять твой проект. Давай общаться на «ты», но если это неудобно, пожалуйста, сообщи. Моя основная цель — не указать на совершенные тобою ошибки, а поделиться своим опытом и помочь тебе совершенствоваться как профессионалу.\n",
    "\n",
    "Ты подготовила замечательный проект, но есть аспекты, которые еще можно улучшить. Я буду использовать комментарии с цветовой разметкой. Пожалуйста, **не перемещай, не изменяй и не удаляй их**. Это поможет выполнить повторную проверку твоего проекта оперативнее.\n",
    "\n",
    "<div class=\"alert alert-danger\">\n",
    "<b>Комментарий ревьюера №1</b> ❌\n",
    "    \n",
    "Таким комментарием выделены самые важные замечания. Без их отработки проект не будет принят.\n",
    "</div>\n",
    "\n",
    "<div class=\"alert alert-warning\">\n",
    "<b>Комментарий ревьюера №1</b> ⚠️\n",
    "    \n",
    "Таким комментарием выделены небольшие замечания и рекомендации, которые будет хорошо учесть.\n",
    "</div>\n",
    "\n",
    "<div class=\"alert alert-success\">\n",
    "<b>Комментарий ревьюера №1</b> ✅\n",
    "    \n",
    "Таким комментарием выделены удачные решения🙂\n",
    "</div>\n",
    "\n",
    "Свои комментарии ты можешь помечать синим цветом.\n",
    "\n",
    "<div class=\"alert alert-info\">\n",
    "<b>Комментарий студента №1</b>\n",
    "    \n",
    "Так ты можешь оформить свой комментарий\n",
    "</div>\n",
    "\n",
    "Давай работать над проектом в диалоге: если ты **что-то меняешь** в проекте по моим рекомендациям — **пиши об этом**. После того, как ты все доработаешь, я смогу принять твой проект!) "
   ]
  },
  {
   "cell_type": "markdown",
   "id": "386f2ae7",
   "metadata": {
    "deletable": false,
    "editable": false,
    "id": "386f2ae7"
   },
   "source": [
    "# Исследование надежности заемщиков\n"
   ]
  },
  {
   "cell_type": "markdown",
   "id": "a9139add",
   "metadata": {},
   "source": [
    "<div class=\"alert alert-success\">\n",
    "<b>Комментарий ревьюера №1</b> ✅\n",
    "    \n",
    "Можно оформить описание проекта\n",
    "</div>"
   ]
  },
  {
   "cell_type": "markdown",
   "id": "ffe86f65",
   "metadata": {
    "deletable": false,
    "editable": false,
    "id": "ffe86f65"
   },
   "source": [
    "Во второй части проекта вы выполните шаги 3 и 4. Их вручную проверит ревьюер.\n",
    "Чтобы вам не пришлось писать код заново для шагов 1 и 2, мы добавили авторские решения в ячейки с кодом. \n",
    "\n"
   ]
  },
  {
   "cell_type": "markdown",
   "id": "26613308",
   "metadata": {
    "deletable": false,
    "editable": false,
    "id": "26613308"
   },
   "source": [
    "## Откройте таблицу и изучите общую информацию о данных"
   ]
  },
  {
   "cell_type": "markdown",
   "id": "3c9f838e",
   "metadata": {
    "deletable": false,
    "editable": false,
    "id": "3c9f838e"
   },
   "source": [
    "**Задание 1. Импортируйте библиотеку pandas. Считайте данные из csv-файла в датафрейм и сохраните в переменную `data`. Путь к файлу:**\n",
    "\n",
    "`/datasets/data.csv`"
   ]
  },
  {
   "cell_type": "code",
   "execution_count": 1,
   "id": "77a68a90",
   "metadata": {
    "deletable": false,
    "id": "77a68a90"
   },
   "outputs": [],
   "source": [
    "import pandas as pd\n",
    "\n",
    "try:\n",
    "    data = pd.read_csv('/datasets/data.csv')\n",
    "except:\n",
    "    data = pd.read_csv('https://code.s3.yandex.net/datasets/data.csv')"
   ]
  },
  {
   "cell_type": "markdown",
   "id": "45365635",
   "metadata": {
    "deletable": false,
    "editable": false,
    "id": "45365635"
   },
   "source": [
    "**Задание 2. Выведите первые 20 строчек датафрейма `data` на экран.**"
   ]
  },
  {
   "cell_type": "code",
   "execution_count": 2,
   "id": "b0451a9a",
   "metadata": {
    "deletable": false,
    "id": "b0451a9a",
    "outputId": "1a8f3ef2-d323-4ec2-ddf7-89670b5944c4"
   },
   "outputs": [
    {
     "data": {
      "text/html": [
       "<div>\n",
       "<style scoped>\n",
       "    .dataframe tbody tr th:only-of-type {\n",
       "        vertical-align: middle;\n",
       "    }\n",
       "\n",
       "    .dataframe tbody tr th {\n",
       "        vertical-align: top;\n",
       "    }\n",
       "\n",
       "    .dataframe thead th {\n",
       "        text-align: right;\n",
       "    }\n",
       "</style>\n",
       "<table border=\"1\" class=\"dataframe\">\n",
       "  <thead>\n",
       "    <tr style=\"text-align: right;\">\n",
       "      <th></th>\n",
       "      <th>children</th>\n",
       "      <th>days_employed</th>\n",
       "      <th>dob_years</th>\n",
       "      <th>education</th>\n",
       "      <th>education_id</th>\n",
       "      <th>family_status</th>\n",
       "      <th>family_status_id</th>\n",
       "      <th>gender</th>\n",
       "      <th>income_type</th>\n",
       "      <th>debt</th>\n",
       "      <th>total_income</th>\n",
       "      <th>purpose</th>\n",
       "    </tr>\n",
       "  </thead>\n",
       "  <tbody>\n",
       "    <tr>\n",
       "      <th>0</th>\n",
       "      <td>1</td>\n",
       "      <td>-8437.673028</td>\n",
       "      <td>42</td>\n",
       "      <td>высшее</td>\n",
       "      <td>0</td>\n",
       "      <td>женат / замужем</td>\n",
       "      <td>0</td>\n",
       "      <td>F</td>\n",
       "      <td>сотрудник</td>\n",
       "      <td>0</td>\n",
       "      <td>253875.639453</td>\n",
       "      <td>покупка жилья</td>\n",
       "    </tr>\n",
       "    <tr>\n",
       "      <th>1</th>\n",
       "      <td>1</td>\n",
       "      <td>-4024.803754</td>\n",
       "      <td>36</td>\n",
       "      <td>среднее</td>\n",
       "      <td>1</td>\n",
       "      <td>женат / замужем</td>\n",
       "      <td>0</td>\n",
       "      <td>F</td>\n",
       "      <td>сотрудник</td>\n",
       "      <td>0</td>\n",
       "      <td>112080.014102</td>\n",
       "      <td>приобретение автомобиля</td>\n",
       "    </tr>\n",
       "    <tr>\n",
       "      <th>2</th>\n",
       "      <td>0</td>\n",
       "      <td>-5623.422610</td>\n",
       "      <td>33</td>\n",
       "      <td>Среднее</td>\n",
       "      <td>1</td>\n",
       "      <td>женат / замужем</td>\n",
       "      <td>0</td>\n",
       "      <td>M</td>\n",
       "      <td>сотрудник</td>\n",
       "      <td>0</td>\n",
       "      <td>145885.952297</td>\n",
       "      <td>покупка жилья</td>\n",
       "    </tr>\n",
       "    <tr>\n",
       "      <th>3</th>\n",
       "      <td>3</td>\n",
       "      <td>-4124.747207</td>\n",
       "      <td>32</td>\n",
       "      <td>среднее</td>\n",
       "      <td>1</td>\n",
       "      <td>женат / замужем</td>\n",
       "      <td>0</td>\n",
       "      <td>M</td>\n",
       "      <td>сотрудник</td>\n",
       "      <td>0</td>\n",
       "      <td>267628.550329</td>\n",
       "      <td>дополнительное образование</td>\n",
       "    </tr>\n",
       "    <tr>\n",
       "      <th>4</th>\n",
       "      <td>0</td>\n",
       "      <td>340266.072047</td>\n",
       "      <td>53</td>\n",
       "      <td>среднее</td>\n",
       "      <td>1</td>\n",
       "      <td>гражданский брак</td>\n",
       "      <td>1</td>\n",
       "      <td>F</td>\n",
       "      <td>пенсионер</td>\n",
       "      <td>0</td>\n",
       "      <td>158616.077870</td>\n",
       "      <td>сыграть свадьбу</td>\n",
       "    </tr>\n",
       "    <tr>\n",
       "      <th>5</th>\n",
       "      <td>0</td>\n",
       "      <td>-926.185831</td>\n",
       "      <td>27</td>\n",
       "      <td>высшее</td>\n",
       "      <td>0</td>\n",
       "      <td>гражданский брак</td>\n",
       "      <td>1</td>\n",
       "      <td>M</td>\n",
       "      <td>компаньон</td>\n",
       "      <td>0</td>\n",
       "      <td>255763.565419</td>\n",
       "      <td>покупка жилья</td>\n",
       "    </tr>\n",
       "    <tr>\n",
       "      <th>6</th>\n",
       "      <td>0</td>\n",
       "      <td>-2879.202052</td>\n",
       "      <td>43</td>\n",
       "      <td>высшее</td>\n",
       "      <td>0</td>\n",
       "      <td>женат / замужем</td>\n",
       "      <td>0</td>\n",
       "      <td>F</td>\n",
       "      <td>компаньон</td>\n",
       "      <td>0</td>\n",
       "      <td>240525.971920</td>\n",
       "      <td>операции с жильем</td>\n",
       "    </tr>\n",
       "    <tr>\n",
       "      <th>7</th>\n",
       "      <td>0</td>\n",
       "      <td>-152.779569</td>\n",
       "      <td>50</td>\n",
       "      <td>СРЕДНЕЕ</td>\n",
       "      <td>1</td>\n",
       "      <td>женат / замужем</td>\n",
       "      <td>0</td>\n",
       "      <td>M</td>\n",
       "      <td>сотрудник</td>\n",
       "      <td>0</td>\n",
       "      <td>135823.934197</td>\n",
       "      <td>образование</td>\n",
       "    </tr>\n",
       "    <tr>\n",
       "      <th>8</th>\n",
       "      <td>2</td>\n",
       "      <td>-6929.865299</td>\n",
       "      <td>35</td>\n",
       "      <td>ВЫСШЕЕ</td>\n",
       "      <td>0</td>\n",
       "      <td>гражданский брак</td>\n",
       "      <td>1</td>\n",
       "      <td>F</td>\n",
       "      <td>сотрудник</td>\n",
       "      <td>0</td>\n",
       "      <td>95856.832424</td>\n",
       "      <td>на проведение свадьбы</td>\n",
       "    </tr>\n",
       "    <tr>\n",
       "      <th>9</th>\n",
       "      <td>0</td>\n",
       "      <td>-2188.756445</td>\n",
       "      <td>41</td>\n",
       "      <td>среднее</td>\n",
       "      <td>1</td>\n",
       "      <td>женат / замужем</td>\n",
       "      <td>0</td>\n",
       "      <td>M</td>\n",
       "      <td>сотрудник</td>\n",
       "      <td>0</td>\n",
       "      <td>144425.938277</td>\n",
       "      <td>покупка жилья для семьи</td>\n",
       "    </tr>\n",
       "    <tr>\n",
       "      <th>10</th>\n",
       "      <td>2</td>\n",
       "      <td>-4171.483647</td>\n",
       "      <td>36</td>\n",
       "      <td>высшее</td>\n",
       "      <td>0</td>\n",
       "      <td>женат / замужем</td>\n",
       "      <td>0</td>\n",
       "      <td>M</td>\n",
       "      <td>компаньон</td>\n",
       "      <td>0</td>\n",
       "      <td>113943.491460</td>\n",
       "      <td>покупка недвижимости</td>\n",
       "    </tr>\n",
       "    <tr>\n",
       "      <th>11</th>\n",
       "      <td>0</td>\n",
       "      <td>-792.701887</td>\n",
       "      <td>40</td>\n",
       "      <td>среднее</td>\n",
       "      <td>1</td>\n",
       "      <td>женат / замужем</td>\n",
       "      <td>0</td>\n",
       "      <td>F</td>\n",
       "      <td>сотрудник</td>\n",
       "      <td>0</td>\n",
       "      <td>77069.234271</td>\n",
       "      <td>покупка коммерческой недвижимости</td>\n",
       "    </tr>\n",
       "    <tr>\n",
       "      <th>12</th>\n",
       "      <td>0</td>\n",
       "      <td>NaN</td>\n",
       "      <td>65</td>\n",
       "      <td>среднее</td>\n",
       "      <td>1</td>\n",
       "      <td>гражданский брак</td>\n",
       "      <td>1</td>\n",
       "      <td>M</td>\n",
       "      <td>пенсионер</td>\n",
       "      <td>0</td>\n",
       "      <td>NaN</td>\n",
       "      <td>сыграть свадьбу</td>\n",
       "    </tr>\n",
       "    <tr>\n",
       "      <th>13</th>\n",
       "      <td>0</td>\n",
       "      <td>-1846.641941</td>\n",
       "      <td>54</td>\n",
       "      <td>неоконченное высшее</td>\n",
       "      <td>2</td>\n",
       "      <td>женат / замужем</td>\n",
       "      <td>0</td>\n",
       "      <td>F</td>\n",
       "      <td>сотрудник</td>\n",
       "      <td>0</td>\n",
       "      <td>130458.228857</td>\n",
       "      <td>приобретение автомобиля</td>\n",
       "    </tr>\n",
       "    <tr>\n",
       "      <th>14</th>\n",
       "      <td>0</td>\n",
       "      <td>-1844.956182</td>\n",
       "      <td>56</td>\n",
       "      <td>высшее</td>\n",
       "      <td>0</td>\n",
       "      <td>гражданский брак</td>\n",
       "      <td>1</td>\n",
       "      <td>F</td>\n",
       "      <td>компаньон</td>\n",
       "      <td>1</td>\n",
       "      <td>165127.911772</td>\n",
       "      <td>покупка жилой недвижимости</td>\n",
       "    </tr>\n",
       "    <tr>\n",
       "      <th>15</th>\n",
       "      <td>1</td>\n",
       "      <td>-972.364419</td>\n",
       "      <td>26</td>\n",
       "      <td>среднее</td>\n",
       "      <td>1</td>\n",
       "      <td>женат / замужем</td>\n",
       "      <td>0</td>\n",
       "      <td>F</td>\n",
       "      <td>сотрудник</td>\n",
       "      <td>0</td>\n",
       "      <td>116820.904450</td>\n",
       "      <td>строительство собственной недвижимости</td>\n",
       "    </tr>\n",
       "    <tr>\n",
       "      <th>16</th>\n",
       "      <td>0</td>\n",
       "      <td>-1719.934226</td>\n",
       "      <td>35</td>\n",
       "      <td>среднее</td>\n",
       "      <td>1</td>\n",
       "      <td>женат / замужем</td>\n",
       "      <td>0</td>\n",
       "      <td>F</td>\n",
       "      <td>сотрудник</td>\n",
       "      <td>0</td>\n",
       "      <td>289202.704229</td>\n",
       "      <td>недвижимость</td>\n",
       "    </tr>\n",
       "    <tr>\n",
       "      <th>17</th>\n",
       "      <td>0</td>\n",
       "      <td>-2369.999720</td>\n",
       "      <td>33</td>\n",
       "      <td>высшее</td>\n",
       "      <td>0</td>\n",
       "      <td>гражданский брак</td>\n",
       "      <td>1</td>\n",
       "      <td>M</td>\n",
       "      <td>сотрудник</td>\n",
       "      <td>0</td>\n",
       "      <td>90410.586745</td>\n",
       "      <td>строительство недвижимости</td>\n",
       "    </tr>\n",
       "    <tr>\n",
       "      <th>18</th>\n",
       "      <td>0</td>\n",
       "      <td>400281.136913</td>\n",
       "      <td>53</td>\n",
       "      <td>среднее</td>\n",
       "      <td>1</td>\n",
       "      <td>вдовец / вдова</td>\n",
       "      <td>2</td>\n",
       "      <td>F</td>\n",
       "      <td>пенсионер</td>\n",
       "      <td>0</td>\n",
       "      <td>56823.777243</td>\n",
       "      <td>на покупку подержанного автомобиля</td>\n",
       "    </tr>\n",
       "    <tr>\n",
       "      <th>19</th>\n",
       "      <td>0</td>\n",
       "      <td>-10038.818549</td>\n",
       "      <td>48</td>\n",
       "      <td>СРЕДНЕЕ</td>\n",
       "      <td>1</td>\n",
       "      <td>в разводе</td>\n",
       "      <td>3</td>\n",
       "      <td>F</td>\n",
       "      <td>сотрудник</td>\n",
       "      <td>0</td>\n",
       "      <td>242831.107982</td>\n",
       "      <td>на покупку своего автомобиля</td>\n",
       "    </tr>\n",
       "  </tbody>\n",
       "</table>\n",
       "</div>"
      ],
      "text/plain": [
       "    children  days_employed  dob_years            education  education_id  \\\n",
       "0          1   -8437.673028         42               высшее             0   \n",
       "1          1   -4024.803754         36              среднее             1   \n",
       "2          0   -5623.422610         33              Среднее             1   \n",
       "3          3   -4124.747207         32              среднее             1   \n",
       "4          0  340266.072047         53              среднее             1   \n",
       "5          0    -926.185831         27               высшее             0   \n",
       "6          0   -2879.202052         43               высшее             0   \n",
       "7          0    -152.779569         50              СРЕДНЕЕ             1   \n",
       "8          2   -6929.865299         35               ВЫСШЕЕ             0   \n",
       "9          0   -2188.756445         41              среднее             1   \n",
       "10         2   -4171.483647         36               высшее             0   \n",
       "11         0    -792.701887         40              среднее             1   \n",
       "12         0            NaN         65              среднее             1   \n",
       "13         0   -1846.641941         54  неоконченное высшее             2   \n",
       "14         0   -1844.956182         56               высшее             0   \n",
       "15         1    -972.364419         26              среднее             1   \n",
       "16         0   -1719.934226         35              среднее             1   \n",
       "17         0   -2369.999720         33               высшее             0   \n",
       "18         0  400281.136913         53              среднее             1   \n",
       "19         0  -10038.818549         48              СРЕДНЕЕ             1   \n",
       "\n",
       "       family_status  family_status_id gender income_type  debt  \\\n",
       "0    женат / замужем                 0      F   сотрудник     0   \n",
       "1    женат / замужем                 0      F   сотрудник     0   \n",
       "2    женат / замужем                 0      M   сотрудник     0   \n",
       "3    женат / замужем                 0      M   сотрудник     0   \n",
       "4   гражданский брак                 1      F   пенсионер     0   \n",
       "5   гражданский брак                 1      M   компаньон     0   \n",
       "6    женат / замужем                 0      F   компаньон     0   \n",
       "7    женат / замужем                 0      M   сотрудник     0   \n",
       "8   гражданский брак                 1      F   сотрудник     0   \n",
       "9    женат / замужем                 0      M   сотрудник     0   \n",
       "10   женат / замужем                 0      M   компаньон     0   \n",
       "11   женат / замужем                 0      F   сотрудник     0   \n",
       "12  гражданский брак                 1      M   пенсионер     0   \n",
       "13   женат / замужем                 0      F   сотрудник     0   \n",
       "14  гражданский брак                 1      F   компаньон     1   \n",
       "15   женат / замужем                 0      F   сотрудник     0   \n",
       "16   женат / замужем                 0      F   сотрудник     0   \n",
       "17  гражданский брак                 1      M   сотрудник     0   \n",
       "18    вдовец / вдова                 2      F   пенсионер     0   \n",
       "19         в разводе                 3      F   сотрудник     0   \n",
       "\n",
       "     total_income                                 purpose  \n",
       "0   253875.639453                           покупка жилья  \n",
       "1   112080.014102                 приобретение автомобиля  \n",
       "2   145885.952297                           покупка жилья  \n",
       "3   267628.550329              дополнительное образование  \n",
       "4   158616.077870                         сыграть свадьбу  \n",
       "5   255763.565419                           покупка жилья  \n",
       "6   240525.971920                       операции с жильем  \n",
       "7   135823.934197                             образование  \n",
       "8    95856.832424                   на проведение свадьбы  \n",
       "9   144425.938277                 покупка жилья для семьи  \n",
       "10  113943.491460                    покупка недвижимости  \n",
       "11   77069.234271       покупка коммерческой недвижимости  \n",
       "12            NaN                         сыграть свадьбу  \n",
       "13  130458.228857                 приобретение автомобиля  \n",
       "14  165127.911772              покупка жилой недвижимости  \n",
       "15  116820.904450  строительство собственной недвижимости  \n",
       "16  289202.704229                            недвижимость  \n",
       "17   90410.586745              строительство недвижимости  \n",
       "18   56823.777243      на покупку подержанного автомобиля  \n",
       "19  242831.107982            на покупку своего автомобиля  "
      ]
     },
     "execution_count": 2,
     "metadata": {},
     "output_type": "execute_result"
    }
   ],
   "source": [
    "data.head(20)"
   ]
  },
  {
   "cell_type": "markdown",
   "id": "0ed8f27f",
   "metadata": {
    "deletable": false,
    "editable": false,
    "id": "0ed8f27f"
   },
   "source": [
    "**Задание 3. Выведите основную информацию о датафрейме с помощью метода `info()`.**"
   ]
  },
  {
   "cell_type": "code",
   "execution_count": 3,
   "id": "ab3f863b",
   "metadata": {
    "deletable": false,
    "id": "ab3f863b",
    "outputId": "15376089-8dad-46c9-b520-c05248d43158"
   },
   "outputs": [
    {
     "name": "stdout",
     "output_type": "stream",
     "text": [
      "<class 'pandas.core.frame.DataFrame'>\n",
      "RangeIndex: 21525 entries, 0 to 21524\n",
      "Data columns (total 12 columns):\n",
      " #   Column            Non-Null Count  Dtype  \n",
      "---  ------            --------------  -----  \n",
      " 0   children          21525 non-null  int64  \n",
      " 1   days_employed     19351 non-null  float64\n",
      " 2   dob_years         21525 non-null  int64  \n",
      " 3   education         21525 non-null  object \n",
      " 4   education_id      21525 non-null  int64  \n",
      " 5   family_status     21525 non-null  object \n",
      " 6   family_status_id  21525 non-null  int64  \n",
      " 7   gender            21525 non-null  object \n",
      " 8   income_type       21525 non-null  object \n",
      " 9   debt              21525 non-null  int64  \n",
      " 10  total_income      19351 non-null  float64\n",
      " 11  purpose           21525 non-null  object \n",
      "dtypes: float64(2), int64(5), object(5)\n",
      "memory usage: 2.0+ MB\n"
     ]
    }
   ],
   "source": [
    "data.info()"
   ]
  },
  {
   "cell_type": "markdown",
   "id": "60e3e22d",
   "metadata": {
    "deletable": false,
    "editable": false,
    "id": "60e3e22d"
   },
   "source": [
    "## Предобработка данных"
   ]
  },
  {
   "cell_type": "markdown",
   "id": "03dc170c",
   "metadata": {
    "deletable": false,
    "editable": false,
    "id": "03dc170c"
   },
   "source": [
    "### Удаление пропусков"
   ]
  },
  {
   "cell_type": "markdown",
   "id": "a4f54eef",
   "metadata": {
    "deletable": false,
    "editable": false,
    "id": "a4f54eef"
   },
   "source": [
    "**Задание 4. Выведите количество пропущенных значений для каждого столбца. Используйте комбинацию двух методов.**"
   ]
  },
  {
   "cell_type": "code",
   "execution_count": 4,
   "id": "2dc372b2",
   "metadata": {
    "deletable": false,
    "id": "2dc372b2",
    "outputId": "81f4d817-781c-465c-ed15-91ce4446810d"
   },
   "outputs": [
    {
     "data": {
      "text/plain": [
       "children               0\n",
       "days_employed       2174\n",
       "dob_years              0\n",
       "education              0\n",
       "education_id           0\n",
       "family_status          0\n",
       "family_status_id       0\n",
       "gender                 0\n",
       "income_type            0\n",
       "debt                   0\n",
       "total_income        2174\n",
       "purpose                0\n",
       "dtype: int64"
      ]
     },
     "execution_count": 4,
     "metadata": {},
     "output_type": "execute_result"
    }
   ],
   "source": [
    "data.isna().sum()"
   ]
  },
  {
   "cell_type": "markdown",
   "id": "14f011b1",
   "metadata": {
    "deletable": false,
    "editable": false,
    "id": "14f011b1"
   },
   "source": [
    "**Задание 5. В двух столбцах есть пропущенные значения. Один из них — `days_employed`. Пропуски в этом столбце вы обработаете на следующем этапе. Другой столбец с пропущенными значениями — `total_income` — хранит данные о доходах. На сумму дохода сильнее всего влияет тип занятости, поэтому заполнить пропуски в этом столбце нужно медианным значением по каждому типу из столбца `income_type`. Например, у человека с типом занятости `сотрудник` пропуск в столбце `total_income` должен быть заполнен медианным доходом среди всех записей с тем же типом.**"
   ]
  },
  {
   "cell_type": "code",
   "execution_count": null,
   "id": "bdabfb6e",
   "metadata": {
    "deletable": false,
    "id": "bdabfb6e"
   },
   "outputs": [],
   "source": [
    "for t in data['income_type'].unique():\n",
    "    data.loc[(data['income_type'] == t) & (data['total_income'].isna()), 'total_income'] = \\\n",
    "    data.loc[(data['income_type'] == t), 'total_income'].median()"
   ]
  },
  {
   "cell_type": "markdown",
   "id": "5be34059",
   "metadata": {
    "deletable": false,
    "editable": false,
    "id": "5be34059"
   },
   "source": [
    "### Обработка аномальных значений"
   ]
  },
  {
   "cell_type": "markdown",
   "id": "a87606cb",
   "metadata": {
    "deletable": false,
    "editable": false,
    "id": "a87606cb"
   },
   "source": [
    "**Задание 6. В данных могут встречаться артефакты (аномалии) — значения, которые не отражают действительность и появились по какой-то ошибке. таким артефактом будет отрицательное количество дней трудового стажа в столбце `days_employed`. Для реальных данных это нормально. Обработайте значения в этом столбце: замените все отрицательные значения положительными с помощью метода `abs()`.**"
   ]
  },
  {
   "cell_type": "code",
   "execution_count": 6,
   "id": "020c46cc",
   "metadata": {
    "deletable": false,
    "id": "020c46cc"
   },
   "outputs": [],
   "source": [
    "data['days_employed'] = data['days_employed'].abs()"
   ]
  },
  {
   "cell_type": "markdown",
   "id": "45538a3a",
   "metadata": {
    "deletable": false,
    "editable": false,
    "id": "45538a3a"
   },
   "source": [
    "**Задание 7. Для каждого типа занятости выведите медианное значение трудового стажа `days_employed` в днях.**"
   ]
  },
  {
   "cell_type": "code",
   "execution_count": 7,
   "id": "cd3e6328",
   "metadata": {
    "deletable": false,
    "id": "cd3e6328",
    "outputId": "801ef80e-522b-4668-f34e-565af7432bcf"
   },
   "outputs": [
    {
     "data": {
      "text/plain": [
       "income_type\n",
       "безработный        366413.652744\n",
       "в декрете            3296.759962\n",
       "госслужащий          2689.368353\n",
       "компаньон            1547.382223\n",
       "пенсионер          365213.306266\n",
       "предприниматель       520.848083\n",
       "сотрудник            1574.202821\n",
       "студент               578.751554\n",
       "Name: days_employed, dtype: float64"
      ]
     },
     "execution_count": 7,
     "metadata": {},
     "output_type": "execute_result"
    }
   ],
   "source": [
    "data.groupby('income_type')['days_employed'].agg('median')"
   ]
  },
  {
   "cell_type": "markdown",
   "id": "90c5f058",
   "metadata": {
    "deletable": false,
    "editable": false,
    "id": "90c5f058"
   },
   "source": [
    "У двух типов (безработные и пенсионеры) получатся аномально большие значения. Исправить такие значения сложно, поэтому оставьте их как есть."
   ]
  },
  {
   "cell_type": "markdown",
   "id": "9652e50d",
   "metadata": {
    "deletable": false,
    "editable": false,
    "id": "9652e50d"
   },
   "source": [
    "**Задание 8. Выведите перечень уникальных значений столбца `children`.**"
   ]
  },
  {
   "cell_type": "code",
   "execution_count": 8,
   "id": "dbb37b8e",
   "metadata": {
    "deletable": false,
    "id": "dbb37b8e",
    "outputId": "6975b15c-7f95-4697-d16d-a0c79b657b03"
   },
   "outputs": [
    {
     "data": {
      "text/plain": [
       "array([ 1,  0,  3,  2, -1,  4, 20,  5])"
      ]
     },
     "execution_count": 8,
     "metadata": {},
     "output_type": "execute_result"
    }
   ],
   "source": [
    "data['children'].unique()"
   ]
  },
  {
   "cell_type": "markdown",
   "id": "2b8b0715",
   "metadata": {
    "deletable": false,
    "editable": false,
    "id": "2b8b0715"
   },
   "source": [
    "**Задание 9. В столбце `children` есть два аномальных значения. Удалите строки, в которых встречаются такие аномальные значения из датафрейма `data`.**"
   ]
  },
  {
   "cell_type": "code",
   "execution_count": 9,
   "id": "20009df8",
   "metadata": {
    "deletable": false,
    "id": "20009df8"
   },
   "outputs": [],
   "source": [
    "data = data[(data['children'] != -1) & (data['children'] != 20)]"
   ]
  },
  {
   "cell_type": "markdown",
   "id": "8c6ac9f1",
   "metadata": {
    "deletable": false,
    "editable": false,
    "id": "8c6ac9f1"
   },
   "source": [
    "**Задание 10. Ещё раз выведите перечень уникальных значений столбца `children`, чтобы убедиться, что артефакты удалены.**"
   ]
  },
  {
   "cell_type": "code",
   "execution_count": 10,
   "id": "07337b81",
   "metadata": {
    "deletable": false,
    "id": "07337b81",
    "outputId": "b2097101-d49d-44d9-901b-32a65c9463d1"
   },
   "outputs": [
    {
     "data": {
      "text/plain": [
       "array([1, 0, 3, 2, 4, 5])"
      ]
     },
     "execution_count": 10,
     "metadata": {},
     "output_type": "execute_result"
    }
   ],
   "source": [
    "data['children'].unique()"
   ]
  },
  {
   "cell_type": "markdown",
   "id": "ee3f52d4",
   "metadata": {
    "deletable": false,
    "editable": false,
    "id": "ee3f52d4"
   },
   "source": [
    "### Удаление пропусков (продолжение)"
   ]
  },
  {
   "cell_type": "markdown",
   "id": "a700b0e4",
   "metadata": {
    "deletable": false,
    "editable": false,
    "id": "a700b0e4"
   },
   "source": [
    "**Задание 11. Заполните пропуски в столбце `days_employed` медианными значениями по каждого типа занятости `income_type`.**"
   ]
  },
  {
   "cell_type": "code",
   "execution_count": 11,
   "id": "61946b83",
   "metadata": {
    "deletable": false,
    "id": "61946b83"
   },
   "outputs": [],
   "source": [
    "for t in data['income_type'].unique():\n",
    "    data.loc[(data['income_type'] == t) & (data['days_employed'].isna()), 'days_employed'] = \\\n",
    "    data.loc[(data['income_type'] == t), 'days_employed'].median()"
   ]
  },
  {
   "cell_type": "markdown",
   "id": "550dcd9b",
   "metadata": {
    "deletable": false,
    "editable": false,
    "id": "550dcd9b"
   },
   "source": [
    "**Задание 12. Убедитесь, что все пропуски заполнены. Проверьте себя и ещё раз выведите количество пропущенных значений для каждого столбца с помощью двух методов.**"
   ]
  },
  {
   "cell_type": "code",
   "execution_count": 12,
   "id": "937c7014",
   "metadata": {
    "deletable": false,
    "id": "937c7014",
    "outputId": "8da1e4e1-358e-4e87-98c9-f261bce0a7b2"
   },
   "outputs": [
    {
     "data": {
      "text/plain": [
       "children            0\n",
       "days_employed       0\n",
       "dob_years           0\n",
       "education           0\n",
       "education_id        0\n",
       "family_status       0\n",
       "family_status_id    0\n",
       "gender              0\n",
       "income_type         0\n",
       "debt                0\n",
       "total_income        0\n",
       "purpose             0\n",
       "dtype: int64"
      ]
     },
     "execution_count": 12,
     "metadata": {},
     "output_type": "execute_result"
    }
   ],
   "source": [
    "data.isna().sum()"
   ]
  },
  {
   "cell_type": "markdown",
   "id": "d522e295",
   "metadata": {
    "deletable": false,
    "editable": false,
    "id": "d522e295"
   },
   "source": [
    "### Изменение типов данных"
   ]
  },
  {
   "cell_type": "markdown",
   "id": "c229c581",
   "metadata": {
    "deletable": false,
    "editable": false,
    "id": "c229c581"
   },
   "source": [
    "**Задание 13. Замените вещественный тип данных в столбце `total_income` на целочисленный с помощью метода `astype()`.**"
   ]
  },
  {
   "cell_type": "code",
   "execution_count": 13,
   "id": "31036462",
   "metadata": {
    "deletable": false,
    "id": "31036462"
   },
   "outputs": [],
   "source": [
    "data['total_income'] = data['total_income'].astype(int)"
   ]
  },
  {
   "cell_type": "markdown",
   "id": "b8e3d1d9",
   "metadata": {
    "deletable": false,
    "editable": false,
    "id": "b8e3d1d9"
   },
   "source": [
    "### Обработка дубликатов"
   ]
  },
  {
   "cell_type": "markdown",
   "id": "9be53c49",
   "metadata": {
    "deletable": false,
    "editable": false,
    "id": "9be53c49"
   },
   "source": [
    "**Задание 14. Обработайте неявные дубликаты в столбце `education`. В этом столбце есть одни и те же значения, но записанные по-разному: с использованием заглавных и строчных букв. Приведите их к нижнему регистру.**"
   ]
  },
  {
   "cell_type": "code",
   "execution_count": 14,
   "id": "d89e73e1",
   "metadata": {
    "deletable": false,
    "id": "d89e73e1"
   },
   "outputs": [],
   "source": [
    "data['education'] = data['education'].str.lower()"
   ]
  },
  {
   "cell_type": "markdown",
   "id": "01d4500e",
   "metadata": {
    "deletable": false,
    "editable": false,
    "id": "01d4500e"
   },
   "source": [
    "**Задание 15. Выведите на экран количество строк-дубликатов в данных. Если такие строки присутствуют, удалите их.**"
   ]
  },
  {
   "cell_type": "code",
   "execution_count": 15,
   "id": "e10efb23",
   "metadata": {
    "deletable": false,
    "id": "e10efb23",
    "outputId": "9684deba-1934-42d1-99e1-cda61740f822"
   },
   "outputs": [
    {
     "data": {
      "text/plain": [
       "71"
      ]
     },
     "execution_count": 15,
     "metadata": {},
     "output_type": "execute_result"
    }
   ],
   "source": [
    "data.duplicated().sum()"
   ]
  },
  {
   "cell_type": "code",
   "execution_count": 16,
   "id": "df853f20",
   "metadata": {
    "deletable": false,
    "id": "df853f20"
   },
   "outputs": [],
   "source": [
    "data = data.drop_duplicates()"
   ]
  },
  {
   "cell_type": "markdown",
   "id": "627be38f",
   "metadata": {
    "deletable": false,
    "editable": false,
    "id": "627be38f"
   },
   "source": [
    "### Категоризация данных"
   ]
  },
  {
   "cell_type": "markdown",
   "id": "4684c3e0",
   "metadata": {
    "deletable": false,
    "editable": false,
    "id": "4684c3e0"
   },
   "source": [
    "**Задание 16. На основании диапазонов, указанных ниже, создайте в датафрейме `data` столбец `total_income_category` с категориями:**\n",
    "\n",
    "- 0–30000 — `'E'`;\n",
    "- 30001–50000 — `'D'`;\n",
    "- 50001–200000 — `'C'`;\n",
    "- 200001–1000000 — `'B'`;\n",
    "- 1000001 и выше — `'A'`.\n",
    "\n",
    "\n",
    "**Например, кредитополучателю с доходом 25000 нужно назначить категорию `'E'`, а клиенту, получающему 235000, — `'B'`. Используйте собственную функцию с именем `categorize_income()` и метод `apply()`.**"
   ]
  },
  {
   "cell_type": "code",
   "execution_count": 17,
   "id": "78965238",
   "metadata": {
    "deletable": false,
    "id": "78965238"
   },
   "outputs": [],
   "source": [
    "def categorize_income(income):\n",
    "    try:\n",
    "        if 0 <= income <= 30000:\n",
    "            return 'E'\n",
    "        elif 30001 <= income <= 50000:\n",
    "            return 'D'\n",
    "        elif 50001 <= income <= 200000:\n",
    "            return 'C'\n",
    "        elif 200001 <= income <= 1000000:\n",
    "            return 'B'\n",
    "        elif income >= 1000001:\n",
    "            return 'A'\n",
    "    except:\n",
    "        pass"
   ]
  },
  {
   "cell_type": "code",
   "execution_count": 18,
   "id": "0980ada1",
   "metadata": {
    "deletable": false,
    "id": "0980ada1"
   },
   "outputs": [],
   "source": [
    "\n"
   ]
  },
  {
   "cell_type": "markdown",
   "id": "9917bba0",
   "metadata": {
    "deletable": false,
    "editable": false,
    "id": "9917bba0"
   },
   "source": [
    "**Задание 17. Выведите на экран перечень уникальных целей взятия кредита из столбца `purpose`.**"
   ]
  },
  {
   "cell_type": "code",
   "execution_count": 19,
   "id": "ee07b65e",
   "metadata": {
    "deletable": false,
    "id": "ee07b65e",
    "outputId": "673c12d9-7d7e-4ae0-9812-c622c89dd244"
   },
   "outputs": [
    {
     "data": {
      "text/plain": [
       "array(['покупка жилья', 'приобретение автомобиля',\n",
       "       'дополнительное образование', 'сыграть свадьбу',\n",
       "       'операции с жильем', 'образование', 'на проведение свадьбы',\n",
       "       'покупка жилья для семьи', 'покупка недвижимости',\n",
       "       'покупка коммерческой недвижимости', 'покупка жилой недвижимости',\n",
       "       'строительство собственной недвижимости', 'недвижимость',\n",
       "       'строительство недвижимости', 'на покупку подержанного автомобиля',\n",
       "       'на покупку своего автомобиля',\n",
       "       'операции с коммерческой недвижимостью',\n",
       "       'строительство жилой недвижимости', 'жилье',\n",
       "       'операции со своей недвижимостью', 'автомобили',\n",
       "       'заняться образованием', 'сделка с подержанным автомобилем',\n",
       "       'получение образования', 'автомобиль', 'свадьба',\n",
       "       'получение дополнительного образования', 'покупка своего жилья',\n",
       "       'операции с недвижимостью', 'получение высшего образования',\n",
       "       'свой автомобиль', 'сделка с автомобилем',\n",
       "       'профильное образование', 'высшее образование',\n",
       "       'покупка жилья для сдачи', 'на покупку автомобиля', 'ремонт жилью',\n",
       "       'заняться высшим образованием'], dtype=object)"
      ]
     },
     "execution_count": 19,
     "metadata": {},
     "output_type": "execute_result"
    }
   ],
   "source": [
    "data['purpose'].unique()"
   ]
  },
  {
   "cell_type": "markdown",
   "id": "52b79d56",
   "metadata": {
    "deletable": false,
    "editable": false,
    "id": "52b79d56"
   },
   "source": [
    "**Задание 18. Создайте функцию, которая на основании данных из столбца `purpose` сформирует новый столбец `purpose_category`, в который войдут следующие категории:**\n",
    "\n",
    "- `'операции с автомобилем'`,\n",
    "- `'операции с недвижимостью'`,\n",
    "- `'проведение свадьбы'`,\n",
    "- `'получение образования'`.\n",
    "\n",
    "**Например, если в столбце `purpose` находится подстрока `'на покупку автомобиля'`, то в столбце `purpose_category` должна появиться строка `'операции с автомобилем'`.**\n",
    "\n",
    "**Используйте собственную функцию с именем `categorize_purpose()` и метод `apply()`. Изучите данные в столбце `purpose` и определите, какие подстроки помогут вам правильно определить категорию.**"
   ]
  },
  {
   "cell_type": "code",
   "execution_count": 1,
   "id": "be41da5d",
   "metadata": {
    "deletable": false,
    "id": "be41da5d"
   },
   "outputs": [],
   "source": [
    "def categorize_purpose(row):\n",
    "    try:\n",
    "        if 'автом' in row:\n",
    "            return 'операции с автомобилем'\n",
    "        elif 'жил' in row or 'недвиж' in row:\n",
    "            return 'операции с недвижимостью'\n",
    "        elif 'свад' in row:\n",
    "            return 'проведение свадьбы'\n",
    "        elif 'образов' in row:\n",
    "            return 'получение образования'\n",
    "    except:\n",
    "        return 'нет категории'"
   ]
  },
  {
   "cell_type": "code",
   "execution_count": 21,
   "id": "94c4a19a",
   "metadata": {
    "deletable": false,
    "id": "94c4a19a"
   },
   "outputs": [],
   "source": [
    "data['purpose_category'] = data['purpose'].apply(categorize_purpose)"
   ]
  },
  {
   "cell_type": "markdown",
   "id": "3d596c34",
   "metadata": {
    "deletable": false,
    "editable": false,
    "id": "3d596c34"
   },
   "source": [
    "### Шаг 3. Исследуйте данные и ответьте на вопросы"
   ]
  },
  {
   "cell_type": "markdown",
   "id": "648db036",
   "metadata": {
    "deletable": false,
    "editable": false,
    "id": "648db036"
   },
   "source": [
    "#### 3.1 Есть ли зависимость между количеством детей и возвратом кредита в срок?"
   ]
  },
  {
   "cell_type": "code",
   "execution_count": 22,
   "id": "7fcff25e",
   "metadata": {
    "deletable": false,
    "id": "7fcff25e"
   },
   "outputs": [
    {
     "data": {
      "text/html": [
       "<div>\n",
       "<style scoped>\n",
       "    .dataframe tbody tr th:only-of-type {\n",
       "        vertical-align: middle;\n",
       "    }\n",
       "\n",
       "    .dataframe tbody tr th {\n",
       "        vertical-align: top;\n",
       "    }\n",
       "\n",
       "    .dataframe thead tr th {\n",
       "        text-align: left;\n",
       "    }\n",
       "\n",
       "    .dataframe thead tr:last-of-type th {\n",
       "        text-align: right;\n",
       "    }\n",
       "</style>\n",
       "<table border=\"1\" class=\"dataframe\">\n",
       "  <thead>\n",
       "    <tr>\n",
       "      <th></th>\n",
       "      <th colspan=\"3\" halign=\"left\">debt</th>\n",
       "      <th>children_share</th>\n",
       "      <th>children_debt_rate</th>\n",
       "    </tr>\n",
       "    <tr>\n",
       "      <th></th>\n",
       "      <th>count</th>\n",
       "      <th>sum</th>\n",
       "      <th>mean</th>\n",
       "      <th></th>\n",
       "      <th></th>\n",
       "    </tr>\n",
       "    <tr>\n",
       "      <th>children</th>\n",
       "      <th></th>\n",
       "      <th></th>\n",
       "      <th></th>\n",
       "      <th></th>\n",
       "      <th></th>\n",
       "    </tr>\n",
       "  </thead>\n",
       "  <tbody>\n",
       "    <tr>\n",
       "      <th>0</th>\n",
       "      <td>14091</td>\n",
       "      <td>1063</td>\n",
       "      <td>0.075438</td>\n",
       "      <td>0.660588</td>\n",
       "      <td>0.929084</td>\n",
       "    </tr>\n",
       "    <tr>\n",
       "      <th>1</th>\n",
       "      <td>4808</td>\n",
       "      <td>444</td>\n",
       "      <td>0.092346</td>\n",
       "      <td>0.225400</td>\n",
       "      <td>1.137318</td>\n",
       "    </tr>\n",
       "    <tr>\n",
       "      <th>2</th>\n",
       "      <td>2052</td>\n",
       "      <td>194</td>\n",
       "      <td>0.094542</td>\n",
       "      <td>0.096198</td>\n",
       "      <td>1.164361</td>\n",
       "    </tr>\n",
       "    <tr>\n",
       "      <th>3</th>\n",
       "      <td>330</td>\n",
       "      <td>27</td>\n",
       "      <td>0.081818</td>\n",
       "      <td>0.015470</td>\n",
       "      <td>1.007658</td>\n",
       "    </tr>\n",
       "    <tr>\n",
       "      <th>4</th>\n",
       "      <td>41</td>\n",
       "      <td>4</td>\n",
       "      <td>0.097561</td>\n",
       "      <td>0.001922</td>\n",
       "      <td>1.201543</td>\n",
       "    </tr>\n",
       "    <tr>\n",
       "      <th>5</th>\n",
       "      <td>9</td>\n",
       "      <td>0</td>\n",
       "      <td>0.000000</td>\n",
       "      <td>0.000422</td>\n",
       "      <td>0.000000</td>\n",
       "    </tr>\n",
       "  </tbody>\n",
       "</table>\n",
       "</div>"
      ],
      "text/plain": [
       "           debt                 children_share children_debt_rate\n",
       "          count   sum      mean                                  \n",
       "children                                                         \n",
       "0         14091  1063  0.075438       0.660588           0.929084\n",
       "1          4808   444  0.092346       0.225400           1.137318\n",
       "2          2052   194  0.094542       0.096198           1.164361\n",
       "3           330    27  0.081818       0.015470           1.007658\n",
       "4            41     4  0.097561       0.001922           1.201543\n",
       "5             9     0  0.000000       0.000422           0.000000"
      ]
     },
     "execution_count": 22,
     "metadata": {},
     "output_type": "execute_result"
    }
   ],
   "source": [
    "# Ваш код будет здесь. Вы можете создавать новые ячейки.\n",
    "debt_rate_ave = data['debt'].sum() / data['debt'].count() # определяем среднюю долю должников в базе\n",
    "\n",
    "children_debt_data = data.groupby('children').agg({'debt': ['count', 'sum', 'mean']}) # для каждой категории клиентов, сгруппированных по количеству детей, определяем общее количество клиентов, количество имеющих задолженность по кредиту, и среднюю долю должников\n",
    "children_debt_data ['children_share'] =   children_debt_data['debt']['count'] /data['debt'].count() # определяем долю каждоу категории в базе\n",
    "children_debt_data ['children_debt_rate'] = children_debt_data['debt']['mean'] / debt_rate_ave # в каждой категории клиентов определяем индекс доли должников по сравнению со средним значением; если индекс выше 1, вероятность невозврата кредита выше среднего\n",
    "\n",
    "children_debt_data\n"
   ]
  },
  {
   "cell_type": "markdown",
   "id": "24c27937",
   "metadata": {},
   "source": [
    "<div class=\"alert alert-success\">\n",
    "<b>Комментарий ревьюера №1</b> ✅\n",
    "    \n",
    "Могу посоветовать переименовать столбцы и написать функцию для построения сводных во всех вопросах.\n",
    "</div>"
   ]
  },
  {
   "cell_type": "markdown",
   "id": "2eb9088e",
   "metadata": {
    "deletable": false,
    "id": "2eb9088e"
   },
   "source": [
    "**Вывод:** Доля должников выше в категориях клиентов, имеющих одного ребенка и более. В группе клиентов, не имеющих детей, доля имеющих задолженность по кредиту, ниже среднего по базе. \n",
    "Однако, данных не достаточно, чтобы выявить влияние количества детей на возврат кредита. Видно, что среди клиентов с 2 детьми доля должников чуть выше, чем среди клиентов с 1 одним ребенком. Но остальные данные не позволяют проследить закономерность: доля клиентов с 4 и 5 детьми крайне мала (менее одного процента от базы) что не позволяет сделать выводов о наличии зависимости; доля клиентов с 3 детьми так же несущественна.  "
   ]
  },
  {
   "cell_type": "markdown",
   "id": "3b1ae569",
   "metadata": {},
   "source": [
    "<div class=\"alert alert-success\">\n",
    "<b>Комментарий ревьюера №1</b> ✅\n",
    "    \n",
    "Хороший вывод\n",
    "</div>"
   ]
  },
  {
   "cell_type": "markdown",
   "id": "74c9b3a7",
   "metadata": {
    "deletable": false,
    "editable": false,
    "id": "74c9b3a7"
   },
   "source": [
    "#### 3.2 Есть ли зависимость между семейным положением и возвратом кредита в срок?"
   ]
  },
  {
   "cell_type": "code",
   "execution_count": 23,
   "id": "8098ab3b",
   "metadata": {
    "deletable": false,
    "id": "8098ab3b"
   },
   "outputs": [
    {
     "data": {
      "text/html": [
       "<div>\n",
       "<style scoped>\n",
       "    .dataframe tbody tr th:only-of-type {\n",
       "        vertical-align: middle;\n",
       "    }\n",
       "\n",
       "    .dataframe tbody tr th {\n",
       "        vertical-align: top;\n",
       "    }\n",
       "\n",
       "    .dataframe thead tr th {\n",
       "        text-align: left;\n",
       "    }\n",
       "\n",
       "    .dataframe thead tr:last-of-type th {\n",
       "        text-align: right;\n",
       "    }\n",
       "</style>\n",
       "<table border=\"1\" class=\"dataframe\">\n",
       "  <thead>\n",
       "    <tr>\n",
       "      <th></th>\n",
       "      <th colspan=\"3\" halign=\"left\">debt</th>\n",
       "      <th>family_status_share</th>\n",
       "      <th>family_status_debt_rate</th>\n",
       "    </tr>\n",
       "    <tr>\n",
       "      <th></th>\n",
       "      <th>count</th>\n",
       "      <th>sum</th>\n",
       "      <th>mean</th>\n",
       "      <th></th>\n",
       "      <th></th>\n",
       "    </tr>\n",
       "    <tr>\n",
       "      <th>family_status</th>\n",
       "      <th></th>\n",
       "      <th></th>\n",
       "      <th></th>\n",
       "      <th></th>\n",
       "      <th></th>\n",
       "    </tr>\n",
       "  </thead>\n",
       "  <tbody>\n",
       "    <tr>\n",
       "      <th>Не женат / не замужем</th>\n",
       "      <td>2796</td>\n",
       "      <td>273</td>\n",
       "      <td>0.097639</td>\n",
       "      <td>0.131077</td>\n",
       "      <td>1.202510</td>\n",
       "    </tr>\n",
       "    <tr>\n",
       "      <th>в разводе</th>\n",
       "      <td>1189</td>\n",
       "      <td>84</td>\n",
       "      <td>0.070648</td>\n",
       "      <td>0.055740</td>\n",
       "      <td>0.870083</td>\n",
       "    </tr>\n",
       "    <tr>\n",
       "      <th>вдовец / вдова</th>\n",
       "      <td>951</td>\n",
       "      <td>63</td>\n",
       "      <td>0.066246</td>\n",
       "      <td>0.044583</td>\n",
       "      <td>0.815875</td>\n",
       "    </tr>\n",
       "    <tr>\n",
       "      <th>гражданский брак</th>\n",
       "      <td>4134</td>\n",
       "      <td>385</td>\n",
       "      <td>0.093130</td>\n",
       "      <td>0.193802</td>\n",
       "      <td>1.146974</td>\n",
       "    </tr>\n",
       "    <tr>\n",
       "      <th>женат / замужем</th>\n",
       "      <td>12261</td>\n",
       "      <td>927</td>\n",
       "      <td>0.075606</td>\n",
       "      <td>0.574797</td>\n",
       "      <td>0.931145</td>\n",
       "    </tr>\n",
       "  </tbody>\n",
       "</table>\n",
       "</div>"
      ],
      "text/plain": [
       "                        debt                family_status_share  \\\n",
       "                       count  sum      mean                       \n",
       "family_status                                                     \n",
       "Не женат / не замужем   2796  273  0.097639            0.131077   \n",
       "в разводе               1189   84  0.070648            0.055740   \n",
       "вдовец / вдова           951   63  0.066246            0.044583   \n",
       "гражданский брак        4134  385  0.093130            0.193802   \n",
       "женат / замужем        12261  927  0.075606            0.574797   \n",
       "\n",
       "                      family_status_debt_rate  \n",
       "                                               \n",
       "family_status                                  \n",
       "Не женат / не замужем                1.202510  \n",
       "в разводе                            0.870083  \n",
       "вдовец / вдова                       0.815875  \n",
       "гражданский брак                     1.146974  \n",
       "женат / замужем                      0.931145  "
      ]
     },
     "execution_count": 23,
     "metadata": {},
     "output_type": "execute_result"
    }
   ],
   "source": [
    "# Ваш код будет здесь. Вы можете создавать новые ячейки.\n",
    "\n",
    "family_status_debt_data = data.groupby('family_status').agg({'debt': ['count', 'sum', 'mean']})  # для каждой категории клиентов, сгруппированных по семейному статусу, определяем общее количество клиентов, количество имеющих задолженность по кредиту, и среднюю долю должников\n",
    "family_status_debt_data ['family_status_share'] =   family_status_debt_data ['debt']['count'] /data['debt'].count() # определяем долю каждоу категории в базе\n",
    "family_status_debt_data ['family_status_debt_rate'] = family_status_debt_data['debt']['mean'] / debt_rate_ave  # в каждой категории клиентов определяем индекс доли должников по сравнению со средним значением; если индекс выше 1, вероятность невозврата кредита выше среднего\n",
    "\n",
    "family_status_debt_data"
   ]
  },
  {
   "cell_type": "markdown",
   "id": "c389ca63",
   "metadata": {
    "deletable": false,
    "id": "c389ca63"
   },
   "source": [
    "**Вывод:** Наибольшая доля задолженности характерна для категорий клиентов, не состоящих в браке, а так же состоящих в гражданском браке. Среди клиентов, состоящих в браке, уровень задоженности ниже среднего по базе. Наименьшая доля должников наблюдается в категориях разведенных клентов и вдовцов.\n",
    "Такая закономерность может быть косвенно связана с возрастом клиентов. Клиенты, не состоящие в браке, либо живущие в гражданском браке, скорее относятся к более молодой возрастной группе, и могут не иметь устойчивого профессионального и финансого положения."
   ]
  },
  {
   "cell_type": "markdown",
   "id": "eaa06a48",
   "metadata": {},
   "source": [
    "<div class=\"alert alert-success\">\n",
    "<b>Комментарий ревьюера №1</b> ✅\n",
    "    \n",
    "Хорошо\n",
    "</div>"
   ]
  },
  {
   "cell_type": "markdown",
   "id": "9529de68",
   "metadata": {
    "deletable": false,
    "editable": false,
    "id": "9529de68"
   },
   "source": [
    "#### 3.3 Есть ли зависимость между уровнем дохода и возвратом кредита в срок?"
   ]
  },
  {
   "cell_type": "code",
   "execution_count": 24,
   "id": "8787f44a",
   "metadata": {
    "deletable": false,
    "id": "8787f44a"
   },
   "outputs": [
    {
     "data": {
      "text/html": [
       "<div>\n",
       "<style scoped>\n",
       "    .dataframe tbody tr th:only-of-type {\n",
       "        vertical-align: middle;\n",
       "    }\n",
       "\n",
       "    .dataframe tbody tr th {\n",
       "        vertical-align: top;\n",
       "    }\n",
       "\n",
       "    .dataframe thead tr th {\n",
       "        text-align: left;\n",
       "    }\n",
       "\n",
       "    .dataframe thead tr:last-of-type th {\n",
       "        text-align: right;\n",
       "    }\n",
       "</style>\n",
       "<table border=\"1\" class=\"dataframe\">\n",
       "  <thead>\n",
       "    <tr>\n",
       "      <th></th>\n",
       "      <th colspan=\"3\" halign=\"left\">debt</th>\n",
       "      <th>income_category_share</th>\n",
       "      <th>income_category_debt_rate</th>\n",
       "    </tr>\n",
       "    <tr>\n",
       "      <th></th>\n",
       "      <th>count</th>\n",
       "      <th>sum</th>\n",
       "      <th>mean</th>\n",
       "      <th></th>\n",
       "      <th></th>\n",
       "    </tr>\n",
       "    <tr>\n",
       "      <th>total_income_category_new</th>\n",
       "      <th></th>\n",
       "      <th></th>\n",
       "      <th></th>\n",
       "      <th></th>\n",
       "      <th></th>\n",
       "    </tr>\n",
       "  </thead>\n",
       "  <tbody>\n",
       "    <tr>\n",
       "      <th>A</th>\n",
       "      <td>25</td>\n",
       "      <td>2</td>\n",
       "      <td>0.080000</td>\n",
       "      <td>0.001172</td>\n",
       "      <td>0.985266</td>\n",
       "    </tr>\n",
       "    <tr>\n",
       "      <th>B</th>\n",
       "      <td>5014</td>\n",
       "      <td>354</td>\n",
       "      <td>0.070602</td>\n",
       "      <td>0.235057</td>\n",
       "      <td>0.869525</td>\n",
       "    </tr>\n",
       "    <tr>\n",
       "      <th>C1</th>\n",
       "      <td>4738</td>\n",
       "      <td>403</td>\n",
       "      <td>0.085057</td>\n",
       "      <td>0.222118</td>\n",
       "      <td>1.047547</td>\n",
       "    </tr>\n",
       "    <tr>\n",
       "      <th>C2</th>\n",
       "      <td>5277</td>\n",
       "      <td>461</td>\n",
       "      <td>0.087360</td>\n",
       "      <td>0.247386</td>\n",
       "      <td>1.075913</td>\n",
       "    </tr>\n",
       "    <tr>\n",
       "      <th>C3</th>\n",
       "      <td>5906</td>\n",
       "      <td>489</td>\n",
       "      <td>0.082797</td>\n",
       "      <td>0.276874</td>\n",
       "      <td>1.019715</td>\n",
       "    </tr>\n",
       "    <tr>\n",
       "      <th>D</th>\n",
       "      <td>349</td>\n",
       "      <td>21</td>\n",
       "      <td>0.060172</td>\n",
       "      <td>0.016361</td>\n",
       "      <td>0.741067</td>\n",
       "    </tr>\n",
       "    <tr>\n",
       "      <th>E</th>\n",
       "      <td>22</td>\n",
       "      <td>2</td>\n",
       "      <td>0.090909</td>\n",
       "      <td>0.001031</td>\n",
       "      <td>1.119620</td>\n",
       "    </tr>\n",
       "  </tbody>\n",
       "</table>\n",
       "</div>"
      ],
      "text/plain": [
       "                           debt                income_category_share  \\\n",
       "                          count  sum      mean                         \n",
       "total_income_category_new                                              \n",
       "A                            25    2  0.080000              0.001172   \n",
       "B                          5014  354  0.070602              0.235057   \n",
       "C1                         4738  403  0.085057              0.222118   \n",
       "C2                         5277  461  0.087360              0.247386   \n",
       "C3                         5906  489  0.082797              0.276874   \n",
       "D                           349   21  0.060172              0.016361   \n",
       "E                            22    2  0.090909              0.001031   \n",
       "\n",
       "                          income_category_debt_rate  \n",
       "                                                     \n",
       "total_income_category_new                            \n",
       "A                                          0.985266  \n",
       "B                                          0.869525  \n",
       "C1                                         1.047547  \n",
       "C2                                         1.075913  \n",
       "C3                                         1.019715  \n",
       "D                                          0.741067  \n",
       "E                                          1.119620  "
      ]
     },
     "execution_count": 24,
     "metadata": {},
     "output_type": "execute_result"
    }
   ],
   "source": [
    "# Ваш код будет здесь. Вы можете создавать новые ячейки.\n",
    "def categorize_income(income):\n",
    "    try:\n",
    "        if 0 <= income <= 30000:\n",
    "            return 'E'\n",
    "        elif 30001 <= income <= 50000:\n",
    "            return 'D'\n",
    "        elif 50001 <= income <= 115000:\n",
    "            return 'C3'\n",
    "        elif 115001 <= income <= 150000:\n",
    "            return 'C2'\n",
    "        elif 150001 <= income <= 200000:\n",
    "            return 'C1'\n",
    "        elif 200001 <= income <= 1000000:\n",
    "            return 'B'\n",
    "        elif income >= 1000001:\n",
    "            return 'A'\n",
    "    except:\n",
    "        pass\n",
    "        \n",
    "data['total_income_category_new'] = data['total_income'].apply(categorize_income)\n",
    "        \n",
    "        \n",
    "income_category_debt_data = data.groupby('total_income_category_new').agg({'debt': ['count', 'sum', 'mean']}) # для каждой категории клиентов, сгруппированных по уровню дохода, определяем общее количество клиентов, количество имеющих задолженность по кредиту, и среднюю долю должников\n",
    "income_category_debt_data ['income_category_share'] =   income_category_debt_data ['debt']['count'] /data['debt'].count() # определяем долю каждоу категории в базе \n",
    "income_category_debt_data ['income_category_debt_rate'] = income_category_debt_data['debt']['mean'] / debt_rate_ave  # в каждой категории клиентов определяем индекс доли должников по сравнению со средним значением; если индекс выше 1, вероятность невозврата кредита выше среднего\n",
    "\n",
    "income_category_debt_data\n"
   ]
  },
  {
   "cell_type": "markdown",
   "id": "6dd14b57",
   "metadata": {
    "deletable": false,
    "id": "6dd14b57"
   },
   "source": [
    "**Вывод:** Выводы о зависимости между уровнем дохода и возвратом кредита можно сделать, опираясь лишь на данные по группам дохода В (общий доход от 200 тыс до 1 млн) и С (общий доход от 50 тыс до 200 тыс). Численность клиентов в других группах несоизмеримно мала для надежных выводов. \n",
    "Общим выводом будет то, что для группы В с более высокими доходом доля невозвратов по кредиту ниже по сравнению с группой С, где доход ниже, а доля невозвратов выше среднего по базе. На основании этого можно судить о наличии зависимости между уровнем дохода и возвратом кредита. \n",
    "Для подтверждения данных выводов предлагаю рассмотреть альтернативную группировку по доходу, разбив группу С на несколько сопоставимых по размеру подгрупп. Группа С являеся самой многочисленной, и шаг дохода очень широкий. Анализируя разбивку, видно, что  по мере снижения группы дохода (сравнение групп С1 и С2) доля невозвратов по кредиту возрастает, и существенно превышает средний уровень по базе. Для группы С3 доля невозвратов возвращается к уровню среднего (и нарушает тенденцию), что может объясняться небольшой суммой кредитов, которые берут представители этой группы."
   ]
  },
  {
   "cell_type": "markdown",
   "id": "ca684d23",
   "metadata": {},
   "source": [
    "<div class=\"alert alert-success\">\n",
    "<b>Комментарий ревьюера №1</b> ✅\n",
    "    \n",
    "👍\n",
    "</div>"
   ]
  },
  {
   "cell_type": "markdown",
   "id": "1dcc9b12",
   "metadata": {
    "deletable": false,
    "editable": false,
    "id": "1dcc9b12"
   },
   "source": [
    "#### 3.4 Как разные цели кредита влияют на его возврат в срок?"
   ]
  },
  {
   "cell_type": "code",
   "execution_count": 25,
   "id": "c602bc8b",
   "metadata": {
    "deletable": false,
    "id": "c602bc8b"
   },
   "outputs": [
    {
     "data": {
      "text/html": [
       "<div>\n",
       "<style scoped>\n",
       "    .dataframe tbody tr th:only-of-type {\n",
       "        vertical-align: middle;\n",
       "    }\n",
       "\n",
       "    .dataframe tbody tr th {\n",
       "        vertical-align: top;\n",
       "    }\n",
       "\n",
       "    .dataframe thead tr th {\n",
       "        text-align: left;\n",
       "    }\n",
       "\n",
       "    .dataframe thead tr:last-of-type th {\n",
       "        text-align: right;\n",
       "    }\n",
       "</style>\n",
       "<table border=\"1\" class=\"dataframe\">\n",
       "  <thead>\n",
       "    <tr>\n",
       "      <th></th>\n",
       "      <th colspan=\"3\" halign=\"left\">debt</th>\n",
       "      <th>purpose_debt_rate</th>\n",
       "    </tr>\n",
       "    <tr>\n",
       "      <th></th>\n",
       "      <th>count</th>\n",
       "      <th>sum</th>\n",
       "      <th>mean</th>\n",
       "      <th></th>\n",
       "    </tr>\n",
       "    <tr>\n",
       "      <th>purpose_category</th>\n",
       "      <th></th>\n",
       "      <th></th>\n",
       "      <th></th>\n",
       "      <th></th>\n",
       "    </tr>\n",
       "  </thead>\n",
       "  <tbody>\n",
       "    <tr>\n",
       "      <th>операции с автомобилем</th>\n",
       "      <td>4279</td>\n",
       "      <td>400</td>\n",
       "      <td>0.093480</td>\n",
       "      <td>1.151280</td>\n",
       "    </tr>\n",
       "    <tr>\n",
       "      <th>операции с недвижимостью</th>\n",
       "      <td>10751</td>\n",
       "      <td>780</td>\n",
       "      <td>0.072551</td>\n",
       "      <td>0.893530</td>\n",
       "    </tr>\n",
       "    <tr>\n",
       "      <th>получение образования</th>\n",
       "      <td>3988</td>\n",
       "      <td>369</td>\n",
       "      <td>0.092528</td>\n",
       "      <td>1.139553</td>\n",
       "    </tr>\n",
       "    <tr>\n",
       "      <th>проведение свадьбы</th>\n",
       "      <td>2313</td>\n",
       "      <td>183</td>\n",
       "      <td>0.079118</td>\n",
       "      <td>0.974403</td>\n",
       "    </tr>\n",
       "  </tbody>\n",
       "</table>\n",
       "</div>"
      ],
      "text/plain": [
       "                           debt                purpose_debt_rate\n",
       "                          count  sum      mean                  \n",
       "purpose_category                                                \n",
       "операции с автомобилем     4279  400  0.093480          1.151280\n",
       "операции с недвижимостью  10751  780  0.072551          0.893530\n",
       "получение образования      3988  369  0.092528          1.139553\n",
       "проведение свадьбы         2313  183  0.079118          0.974403"
      ]
     },
     "execution_count": 25,
     "metadata": {},
     "output_type": "execute_result"
    }
   ],
   "source": [
    "# Ваш код будет здесь. Вы можете создавать новые ячейки.\n",
    "\n",
    "purpose_debt_data = data.groupby('purpose_category').agg({'debt': ['count', 'sum', 'mean']}) # для каждой категории клиентов, сгруппированных по цели кредита, определяем общее количество клиентов, количество имеющих задолженность по кредиту, и среднюю долю должников\n",
    "purpose_debt_data ['purpose_debt_rate'] = purpose_debt_data['debt']['mean'] / debt_rate_ave  # в каждой категории клиентов определяем индекс доли должников по сравнению со средним значением; если индекс выше 1, вероятность невозврата кредита выше среднего\n",
    "\n",
    "purpose_debt_data"
   ]
  },
  {
   "cell_type": "markdown",
   "id": "cf05ed63",
   "metadata": {
    "deletable": false,
    "id": "cf05ed63"
   },
   "source": [
    "**Вывод:** Согласно полученным данным категории клиентов с наибольшей долей невозвратов: кредиты с целью операций с автомобилем, и на получение образования. Клиенты из категории кредитов на цели, связанные с недвижимостью, обладают наименьшей долей невозвратов.  Кредиты на свадьбу так же имеют долю невозвратов ниже среднего"
   ]
  },
  {
   "cell_type": "markdown",
   "id": "62075858",
   "metadata": {},
   "source": [
    "<div class=\"alert alert-success\">\n",
    "<b>Комментарий ревьюера №1</b> ✅ \n",
    "    \n",
    "Верно\n",
    "</div>"
   ]
  },
  {
   "cell_type": "markdown",
   "id": "46c1f10b",
   "metadata": {
    "deletable": false,
    "editable": false,
    "id": "46c1f10b"
   },
   "source": [
    "#### 3.5 Приведите возможные причины появления пропусков в исходных данных."
   ]
  },
  {
   "cell_type": "markdown",
   "id": "3697d2a9",
   "metadata": {
    "deletable": false,
    "id": "3697d2a9"
   },
   "source": [
    "*Ответ:* \n",
    "технические сбои при сохранении либо при копировании или переносе данных; \n",
    "специфика сбора данных, напр., определенные данные являются необязательными для заполнения; \n",
    "изменение методологии сбора данных, напр., некоторые данные решили собирать (или появилась возможность их собирать) не с самого начала сбора базы."
   ]
  },
  {
   "cell_type": "markdown",
   "id": "b8efecc1",
   "metadata": {},
   "source": [
    "<div class=\"alert alert-success\">\n",
    "<b>Комментарий ревьюера №1</b> ✅\n",
    "    \n",
    "Проблемы могли возникнуть на этапе загрузки и на этапе выгрузки данных. Неправильный запрос, объединение таблиц также может быть причиной.\n",
    "</div>"
   ]
  },
  {
   "cell_type": "markdown",
   "id": "3137d257",
   "metadata": {
    "deletable": false,
    "editable": false,
    "id": "3137d257"
   },
   "source": [
    "#### 3.6 Объясните, почему заполнить пропуски медианным значением — лучшее решение для количественных переменных."
   ]
  },
  {
   "cell_type": "markdown",
   "id": "cf40012a",
   "metadata": {
    "deletable": false,
    "id": "cf40012a"
   },
   "source": [
    "*Ответ:* На среднее могут влиять крайне высокие или крайне низкие значения, характерные для небольшой доли наблюдений в базе. Такие крайные значения могут давать искажения, завышая или занижая среднее значение. Медианные значения позволяют снивелировать данные искажения. "
   ]
  },
  {
   "cell_type": "markdown",
   "id": "bf62ec0a",
   "metadata": {},
   "source": [
    "<div class=\"alert alert-success\">\n",
    "<b>Комментарий ревьюера №1</b> ✅\n",
    "    \n",
    "Да, смотрим на наличие выбросов👍\n",
    "</div>"
   ]
  },
  {
   "cell_type": "markdown",
   "id": "57bc304e",
   "metadata": {
    "deletable": false,
    "editable": false,
    "id": "57bc304e"
   },
   "source": [
    "### Шаг 4: общий вывод."
   ]
  },
  {
   "cell_type": "markdown",
   "id": "1ab75d1c",
   "metadata": {
    "deletable": false,
    "id": "1ab75d1c"
   },
   "source": [
    "Напишите ваш общий вывод.\n",
    "Согласно проанализированным данным, на возврат кредита в срок влияют следующие факторы: \n",
    "Наличие детей в семье снижает вероятность возврата кредита в срок. Корреляции с количеством детей в семье не выявлено.\n",
    "Семейный статус \"Не женат / не замужем\" и \"гражданский брак\" снижают вероятность возврата кредита в срок. Предположительно, указывает на молодой возраст клиентов, и менее высокий и устойчивый доход. \n",
    "Есть влияние со стороны уровня дохода: ниже вероятность выплаты кредита в срок для группы дохода от 50 тыс до 200 тыс, где наибольшая доля задолженности приходится на подгруппу от 115 тыс до 150 тыс. Влияние уровня дохода стоит дополнительно анализировать в связке с размером кредита.\n",
    "Клиенты, взявшие кредит с целью \"операции с автомобилем\" и \"получение образования\" имеют более низкую долю возврата кредита в срок. "
   ]
  },
  {
   "cell_type": "markdown",
   "id": "e7591d2d",
   "metadata": {},
   "source": [
    "<div class=\"alert alert-warning\">\n",
    "<b>Комментарий ревьюера №1</b> ⚠️ \n",
    "    \n",
    "По людям с 0-2 детьми: чем больше детей, тем выше задолженность. \n",
    "    \n",
    "По доходу можно попробовать разбить всех клиентов на равные по количеству человек группы. Для категоризации данных также можно использовать методы pd.cut() и pd.qcut(). Подробнее о них можно почитать здесь https://www.geeksforgeeks.org/how-to-use-pandas-cut-and-qcut/ или <a href=\"https://dfedorov.spb.ru/pandas/%D0%A0%D0%B0%D0%B7%D0%B4%D0%B5%D0%BB%D0%B5%D0%BD%D0%B8%D0%B5%20%D0%B4%D0%B0%D0%BD%D0%BD%D1%8B%D1%85%20%D0%B2%20Pandas%20%D1%81%20%D0%BF%D0%BE%D0%BC%D0%BE%D1%89%D1%8C%D1%8E%20qcut%20%D0%B8%20cut.html\">здесь</a> \n",
    "    \n",
    "Здесь также нужно описать какая работа над данными была проведена и добавить рекомендации банку-заказчику. В качестве рекомендаций можно предложить другую категоризацию по доходам. Или исследовать другие признаки, рассчитать другие метрики (отношение дохода к сумме выплат и др.). В анкете сделать поля о доходе и стаже обязательными к заполнению, добавить автопроверку на формат вводимых пользователем данных\n",
    "</div>"
   ]
  },
  {
   "cell_type": "markdown",
   "id": "a893949e",
   "metadata": {},
   "source": [
    "<div style=\"border:solid purple 2px; padding: 20px\"> \n",
    "<b> <font color='purple' >   \n",
    "Отлично! Критических замечаний нет. Проект принят! 👏 Поздравляю и желаю удачи!\n",
    "</font></b>\n",
    "</div>"
   ]
  }
 ],
 "metadata": {
  "ExecuteTimeLog": [
   {
    "duration": 51,
    "start_time": "2023-07-10T06:17:06.077Z"
   },
   {
    "duration": 756,
    "start_time": "2023-07-10T06:17:18.297Z"
   },
   {
    "duration": 26,
    "start_time": "2023-07-10T06:17:19.055Z"
   },
   {
    "duration": 17,
    "start_time": "2023-07-10T06:17:19.082Z"
   },
   {
    "duration": 11,
    "start_time": "2023-07-10T06:17:19.102Z"
   },
   {
    "duration": 39,
    "start_time": "2023-07-10T06:17:19.115Z"
   },
   {
    "duration": 4,
    "start_time": "2023-07-10T06:17:19.156Z"
   },
   {
    "duration": 27,
    "start_time": "2023-07-10T06:17:19.162Z"
   },
   {
    "duration": 12,
    "start_time": "2023-07-10T06:17:19.191Z"
   },
   {
    "duration": 21,
    "start_time": "2023-07-10T06:17:19.205Z"
   },
   {
    "duration": 21,
    "start_time": "2023-07-10T06:17:19.230Z"
   },
   {
    "duration": 45,
    "start_time": "2023-07-10T06:17:19.253Z"
   },
   {
    "duration": 11,
    "start_time": "2023-07-10T06:17:19.300Z"
   },
   {
    "duration": 5,
    "start_time": "2023-07-10T06:17:19.312Z"
   },
   {
    "duration": 18,
    "start_time": "2023-07-10T06:17:19.318Z"
   },
   {
    "duration": 42,
    "start_time": "2023-07-10T06:17:19.338Z"
   },
   {
    "duration": 19,
    "start_time": "2023-07-10T06:17:19.382Z"
   },
   {
    "duration": 7,
    "start_time": "2023-07-10T06:17:19.403Z"
   },
   {
    "duration": 18,
    "start_time": "2023-07-10T06:17:19.412Z"
   },
   {
    "duration": 18,
    "start_time": "2023-07-10T06:17:19.434Z"
   },
   {
    "duration": 19,
    "start_time": "2023-07-10T06:17:19.454Z"
   },
   {
    "duration": 26,
    "start_time": "2023-07-10T06:17:19.476Z"
   },
   {
    "duration": 78,
    "start_time": "2023-07-10T06:17:19.505Z"
   },
   {
    "duration": 0,
    "start_time": "2023-07-10T06:17:19.585Z"
   },
   {
    "duration": 0,
    "start_time": "2023-07-10T06:17:19.586Z"
   },
   {
    "duration": 0,
    "start_time": "2023-07-10T06:17:19.587Z"
   },
   {
    "duration": 9,
    "start_time": "2023-07-10T06:17:41.155Z"
   },
   {
    "duration": 544,
    "start_time": "2023-07-10T06:18:35.685Z"
   },
   {
    "duration": 29,
    "start_time": "2023-07-10T06:18:36.231Z"
   },
   {
    "duration": 84,
    "start_time": "2023-07-10T06:18:36.262Z"
   },
   {
    "duration": 52,
    "start_time": "2023-07-10T06:18:36.349Z"
   },
   {
    "duration": 39,
    "start_time": "2023-07-10T06:18:36.403Z"
   },
   {
    "duration": 5,
    "start_time": "2023-07-10T06:18:36.444Z"
   },
   {
    "duration": 16,
    "start_time": "2023-07-10T06:18:36.451Z"
   },
   {
    "duration": 30,
    "start_time": "2023-07-10T06:18:36.469Z"
   },
   {
    "duration": 17,
    "start_time": "2023-07-10T06:18:36.501Z"
   },
   {
    "duration": 9,
    "start_time": "2023-07-10T06:18:36.523Z"
   },
   {
    "duration": 43,
    "start_time": "2023-07-10T06:18:36.534Z"
   },
   {
    "duration": 12,
    "start_time": "2023-07-10T06:18:36.579Z"
   },
   {
    "duration": 16,
    "start_time": "2023-07-10T06:18:36.593Z"
   },
   {
    "duration": 20,
    "start_time": "2023-07-10T06:18:36.611Z"
   },
   {
    "duration": 96,
    "start_time": "2023-07-10T06:18:36.633Z"
   },
   {
    "duration": 20,
    "start_time": "2023-07-10T06:18:36.731Z"
   },
   {
    "duration": 12,
    "start_time": "2023-07-10T06:18:36.753Z"
   },
   {
    "duration": 34,
    "start_time": "2023-07-10T06:18:36.766Z"
   },
   {
    "duration": 14,
    "start_time": "2023-07-10T06:18:36.802Z"
   },
   {
    "duration": 5,
    "start_time": "2023-07-10T06:18:36.818Z"
   },
   {
    "duration": 33,
    "start_time": "2023-07-10T06:18:36.825Z"
   },
   {
    "duration": 113,
    "start_time": "2023-07-10T06:18:36.860Z"
   },
   {
    "duration": 0,
    "start_time": "2023-07-10T06:18:36.976Z"
   },
   {
    "duration": 0,
    "start_time": "2023-07-10T06:18:36.977Z"
   },
   {
    "duration": 0,
    "start_time": "2023-07-10T06:18:36.979Z"
   },
   {
    "duration": 30,
    "start_time": "2023-07-10T06:27:24.773Z"
   },
   {
    "duration": 17,
    "start_time": "2023-07-10T06:29:54.889Z"
   },
   {
    "duration": 504,
    "start_time": "2023-07-10T06:31:03.763Z"
   },
   {
    "duration": 23,
    "start_time": "2023-07-10T06:31:04.270Z"
   },
   {
    "duration": 26,
    "start_time": "2023-07-10T06:31:04.295Z"
   },
   {
    "duration": 17,
    "start_time": "2023-07-10T06:31:04.324Z"
   },
   {
    "duration": 50,
    "start_time": "2023-07-10T06:31:04.343Z"
   },
   {
    "duration": 4,
    "start_time": "2023-07-10T06:31:04.395Z"
   },
   {
    "duration": 12,
    "start_time": "2023-07-10T06:31:04.411Z"
   },
   {
    "duration": 16,
    "start_time": "2023-07-10T06:31:04.426Z"
   },
   {
    "duration": 44,
    "start_time": "2023-07-10T06:31:04.444Z"
   },
   {
    "duration": 5,
    "start_time": "2023-07-10T06:31:04.493Z"
   },
   {
    "duration": 58,
    "start_time": "2023-07-10T06:31:04.500Z"
   },
   {
    "duration": 10,
    "start_time": "2023-07-10T06:31:04.560Z"
   },
   {
    "duration": 30,
    "start_time": "2023-07-10T06:31:04.572Z"
   },
   {
    "duration": 33,
    "start_time": "2023-07-10T06:31:04.604Z"
   },
   {
    "duration": 42,
    "start_time": "2023-07-10T06:31:04.639Z"
   },
   {
    "duration": 23,
    "start_time": "2023-07-10T06:31:04.683Z"
   },
   {
    "duration": 5,
    "start_time": "2023-07-10T06:31:04.708Z"
   },
   {
    "duration": 50,
    "start_time": "2023-07-10T06:31:04.715Z"
   },
   {
    "duration": 15,
    "start_time": "2023-07-10T06:31:04.767Z"
   },
   {
    "duration": 13,
    "start_time": "2023-07-10T06:31:04.784Z"
   },
   {
    "duration": 19,
    "start_time": "2023-07-10T06:31:04.799Z"
   },
   {
    "duration": 95,
    "start_time": "2023-07-10T06:31:04.820Z"
   },
   {
    "duration": 0,
    "start_time": "2023-07-10T06:31:04.917Z"
   },
   {
    "duration": 0,
    "start_time": "2023-07-10T06:31:04.918Z"
   },
   {
    "duration": 0,
    "start_time": "2023-07-10T06:31:04.920Z"
   },
   {
    "duration": 17,
    "start_time": "2023-07-10T06:34:53.720Z"
   },
   {
    "duration": 136,
    "start_time": "2023-07-10T06:35:08.858Z"
   },
   {
    "duration": 21,
    "start_time": "2023-07-10T06:35:46.733Z"
   },
   {
    "duration": 235,
    "start_time": "2023-07-10T06:35:59.243Z"
   },
   {
    "duration": 242,
    "start_time": "2023-07-10T06:37:31.434Z"
   },
   {
    "duration": 21,
    "start_time": "2023-07-10T06:37:54.484Z"
   },
   {
    "duration": 11,
    "start_time": "2023-07-10T06:41:28.832Z"
   },
   {
    "duration": 19,
    "start_time": "2023-07-10T06:42:07.582Z"
   },
   {
    "duration": 2499,
    "start_time": "2023-07-10T06:45:09.970Z"
   },
   {
    "duration": 1608,
    "start_time": "2023-07-10T06:45:45.031Z"
   },
   {
    "duration": 1556,
    "start_time": "2023-07-10T06:46:13.625Z"
   },
   {
    "duration": 21,
    "start_time": "2023-07-10T06:47:28.234Z"
   },
   {
    "duration": 83,
    "start_time": "2023-07-12T13:55:58.459Z"
   },
   {
    "duration": 15,
    "start_time": "2023-07-12T13:56:22.013Z"
   },
   {
    "duration": 13,
    "start_time": "2023-07-12T13:56:29.836Z"
   },
   {
    "duration": 14,
    "start_time": "2023-07-12T13:56:43.659Z"
   },
   {
    "duration": 536,
    "start_time": "2023-07-12T13:56:50.386Z"
   },
   {
    "duration": 35,
    "start_time": "2023-07-12T13:56:50.926Z"
   },
   {
    "duration": 25,
    "start_time": "2023-07-12T13:56:50.963Z"
   },
   {
    "duration": 28,
    "start_time": "2023-07-12T13:56:50.991Z"
   },
   {
    "duration": 52,
    "start_time": "2023-07-12T13:56:51.022Z"
   },
   {
    "duration": 4,
    "start_time": "2023-07-12T13:56:51.076Z"
   },
   {
    "duration": 15,
    "start_time": "2023-07-12T13:56:51.081Z"
   },
   {
    "duration": 15,
    "start_time": "2023-07-12T13:56:51.114Z"
   },
   {
    "duration": 25,
    "start_time": "2023-07-12T13:56:51.132Z"
   },
   {
    "duration": 22,
    "start_time": "2023-07-12T13:56:51.161Z"
   },
   {
    "duration": 62,
    "start_time": "2023-07-12T13:56:51.185Z"
   },
   {
    "duration": 10,
    "start_time": "2023-07-12T13:56:51.249Z"
   },
   {
    "duration": 6,
    "start_time": "2023-07-12T13:56:51.261Z"
   },
   {
    "duration": 50,
    "start_time": "2023-07-12T13:56:51.269Z"
   },
   {
    "duration": 52,
    "start_time": "2023-07-12T13:56:51.321Z"
   },
   {
    "duration": 29,
    "start_time": "2023-07-12T13:56:51.375Z"
   },
   {
    "duration": 6,
    "start_time": "2023-07-12T13:56:51.407Z"
   },
   {
    "duration": 16,
    "start_time": "2023-07-12T13:56:51.415Z"
   },
   {
    "duration": 16,
    "start_time": "2023-07-12T13:56:51.434Z"
   },
   {
    "duration": 5,
    "start_time": "2023-07-12T13:56:51.451Z"
   },
   {
    "duration": 27,
    "start_time": "2023-07-12T13:56:51.458Z"
   },
   {
    "duration": 42,
    "start_time": "2023-07-12T13:56:51.487Z"
   },
   {
    "duration": 3,
    "start_time": "2023-07-12T13:56:51.531Z"
   },
   {
    "duration": 11,
    "start_time": "2023-07-12T13:56:51.536Z"
   },
   {
    "duration": 9,
    "start_time": "2023-07-12T13:56:51.549Z"
   },
   {
    "duration": 83,
    "start_time": "2023-07-12T13:57:11.160Z"
   },
   {
    "duration": 28,
    "start_time": "2023-07-12T13:57:26.351Z"
   },
   {
    "duration": 1304,
    "start_time": "2023-07-12T13:57:55.253Z"
   },
   {
    "duration": 28,
    "start_time": "2023-07-12T13:58:31.894Z"
   },
   {
    "duration": 26,
    "start_time": "2023-07-12T13:58:47.093Z"
   },
   {
    "duration": 27,
    "start_time": "2023-07-12T13:59:00.361Z"
   },
   {
    "duration": 20,
    "start_time": "2023-07-12T13:59:51.453Z"
   },
   {
    "duration": 27,
    "start_time": "2023-07-12T14:00:12.160Z"
   },
   {
    "duration": 20,
    "start_time": "2023-07-12T14:00:26.259Z"
   },
   {
    "duration": 14,
    "start_time": "2023-07-12T14:04:54.566Z"
   },
   {
    "duration": 11,
    "start_time": "2023-07-12T14:05:07.492Z"
   },
   {
    "duration": 15,
    "start_time": "2023-07-12T14:05:17.862Z"
   },
   {
    "duration": 18,
    "start_time": "2023-07-12T14:08:19.635Z"
   },
   {
    "duration": 35,
    "start_time": "2023-07-12T14:10:52.368Z"
   },
   {
    "duration": 46,
    "start_time": "2023-07-12T14:11:06.302Z"
   },
   {
    "duration": 9,
    "start_time": "2023-07-12T14:12:46.013Z"
   },
   {
    "duration": 18,
    "start_time": "2023-07-12T14:13:07.889Z"
   },
   {
    "duration": 17,
    "start_time": "2023-07-12T14:13:26.158Z"
   },
   {
    "duration": 17,
    "start_time": "2023-07-12T14:13:58.456Z"
   },
   {
    "duration": 7,
    "start_time": "2023-07-12T14:14:49.002Z"
   },
   {
    "duration": 16,
    "start_time": "2023-07-12T14:15:13.546Z"
   },
   {
    "duration": 26,
    "start_time": "2023-07-12T14:15:32.719Z"
   },
   {
    "duration": 21,
    "start_time": "2023-07-12T14:18:39.958Z"
   },
   {
    "duration": 20,
    "start_time": "2023-07-12T14:21:01.761Z"
   },
   {
    "duration": 32,
    "start_time": "2023-07-12T14:24:00.932Z"
   },
   {
    "duration": 25,
    "start_time": "2023-07-12T14:25:23.503Z"
   },
   {
    "duration": 18,
    "start_time": "2023-07-12T14:28:57.542Z"
   },
   {
    "duration": 30,
    "start_time": "2023-07-12T15:02:34.295Z"
   },
   {
    "duration": 22,
    "start_time": "2023-07-12T15:09:42.054Z"
   },
   {
    "duration": 24,
    "start_time": "2023-07-12T15:11:29.442Z"
   },
   {
    "duration": 130,
    "start_time": "2023-07-12T16:02:40.806Z"
   },
   {
    "duration": 142,
    "start_time": "2023-07-12T16:02:56.773Z"
   },
   {
    "duration": 118,
    "start_time": "2023-07-12T16:03:09.910Z"
   },
   {
    "duration": 32,
    "start_time": "2023-07-12T16:04:20.653Z"
   },
   {
    "duration": 38,
    "start_time": "2023-07-12T16:07:23.325Z"
   },
   {
    "duration": 43,
    "start_time": "2023-07-12T16:10:09.136Z"
   },
   {
    "duration": 32,
    "start_time": "2023-07-12T16:10:31.872Z"
   },
   {
    "duration": 36,
    "start_time": "2023-07-12T16:11:25.297Z"
   },
   {
    "duration": 29,
    "start_time": "2023-07-12T16:20:37.828Z"
   },
   {
    "duration": 34,
    "start_time": "2023-07-12T16:21:09.258Z"
   },
   {
    "duration": 33,
    "start_time": "2023-07-12T16:21:38.468Z"
   },
   {
    "duration": 49,
    "start_time": "2023-07-12T16:22:01.107Z"
   },
   {
    "duration": 41,
    "start_time": "2023-07-12T16:23:11.622Z"
   },
   {
    "duration": 684,
    "start_time": "2023-07-13T09:20:49.728Z"
   },
   {
    "duration": 33,
    "start_time": "2023-07-13T09:20:50.421Z"
   },
   {
    "duration": 47,
    "start_time": "2023-07-13T09:20:50.456Z"
   },
   {
    "duration": 17,
    "start_time": "2023-07-13T09:20:50.506Z"
   },
   {
    "duration": 88,
    "start_time": "2023-07-13T09:20:50.529Z"
   },
   {
    "duration": 10,
    "start_time": "2023-07-13T09:20:50.619Z"
   },
   {
    "duration": 16,
    "start_time": "2023-07-13T09:20:50.631Z"
   },
   {
    "duration": 7,
    "start_time": "2023-07-13T09:20:50.649Z"
   },
   {
    "duration": 29,
    "start_time": "2023-07-13T09:20:50.658Z"
   },
   {
    "duration": 40,
    "start_time": "2023-07-13T09:20:50.691Z"
   },
   {
    "duration": 70,
    "start_time": "2023-07-13T09:20:50.734Z"
   },
   {
    "duration": 17,
    "start_time": "2023-07-13T09:20:50.813Z"
   },
   {
    "duration": 17,
    "start_time": "2023-07-13T09:20:50.833Z"
   },
   {
    "duration": 48,
    "start_time": "2023-07-13T09:20:50.852Z"
   },
   {
    "duration": 46,
    "start_time": "2023-07-13T09:20:50.904Z"
   },
   {
    "duration": 21,
    "start_time": "2023-07-13T09:20:50.952Z"
   },
   {
    "duration": 7,
    "start_time": "2023-07-13T09:20:50.974Z"
   },
   {
    "duration": 41,
    "start_time": "2023-07-13T09:20:50.983Z"
   },
   {
    "duration": 8,
    "start_time": "2023-07-13T09:20:51.026Z"
   },
   {
    "duration": 7,
    "start_time": "2023-07-13T09:20:51.036Z"
   },
   {
    "duration": 16,
    "start_time": "2023-07-13T09:20:51.045Z"
   },
   {
    "duration": 62,
    "start_time": "2023-07-13T09:20:51.063Z"
   },
   {
    "duration": 26,
    "start_time": "2023-07-13T09:20:51.127Z"
   },
   {
    "duration": 74,
    "start_time": "2023-07-13T09:20:51.155Z"
   },
   {
    "duration": 21,
    "start_time": "2023-07-13T09:20:51.230Z"
   },
   {
    "duration": 5,
    "start_time": "2023-07-13T09:21:48.754Z"
   },
   {
    "duration": 9,
    "start_time": "2023-08-16T14:53:10.174Z"
   }
  ],
  "colab": {
   "provenance": []
  },
  "kernelspec": {
   "display_name": "Python 3 (ipykernel)",
   "language": "python",
   "name": "python3"
  },
  "language_info": {
   "codemirror_mode": {
    "name": "ipython",
    "version": 3
   },
   "file_extension": ".py",
   "mimetype": "text/x-python",
   "name": "python",
   "nbconvert_exporter": "python",
   "pygments_lexer": "ipython3",
   "version": "3.9.5"
  },
  "toc": {
   "base_numbering": 1,
   "nav_menu": {},
   "number_sections": true,
   "sideBar": true,
   "skip_h1_title": true,
   "title_cell": "Table of Contents",
   "title_sidebar": "Contents",
   "toc_cell": false,
   "toc_position": {},
   "toc_section_display": true,
   "toc_window_display": false
  }
 },
 "nbformat": 4,
 "nbformat_minor": 5
}
